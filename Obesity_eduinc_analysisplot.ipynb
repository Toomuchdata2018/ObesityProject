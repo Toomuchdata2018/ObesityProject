{
 "cells": [
  {
   "cell_type": "code",
   "execution_count": 2,
   "metadata": {},
   "outputs": [],
   "source": [
    "#Dependencies\n",
    "import pandas as pd\n",
    "import numpy as np\n",
    "import matplotlib.pyplot as plt\n",
    "import seaborn as sns\n"
   ]
  },
  {
   "cell_type": "code",
   "execution_count": 3,
   "metadata": {},
   "outputs": [],
   "source": [
    "#Read csv files for each year and store in relevant dataframe:\n",
    "#yearlist=[\"2012\",\"2013\",\"2014\",\"2015\",\"2016\"]\n",
    "#for year in yearlist:\n",
    "#    fname=\"ObesityEduIncome_\" + year + \".csv\"\n",
    "#    print(fname)\n",
    "edui2012_df = pd.read_csv(\"ObesityEduIncome_2012.csv\")\n",
    "edui2013_df = pd.read_csv(\"ObesityEduIncome_2013.csv\")\n",
    "edui2014_df = pd.read_csv(\"ObesityEduIncome_2014.csv\")\n",
    "edui2015_df = pd.read_csv(\"ObesityEduIncome_2015.csv\")\n",
    "edui2016_df = pd.read_csv(\"ObesityEduIncome_2016.csv\")\n",
    "    "
   ]
  },
  {
   "cell_type": "code",
   "execution_count": 4,
   "metadata": {},
   "outputs": [
    {
     "data": {
      "text/html": [
       "<div>\n",
       "<style scoped>\n",
       "    .dataframe tbody tr th:only-of-type {\n",
       "        vertical-align: middle;\n",
       "    }\n",
       "\n",
       "    .dataframe tbody tr th {\n",
       "        vertical-align: top;\n",
       "    }\n",
       "\n",
       "    .dataframe thead th {\n",
       "        text-align: right;\n",
       "    }\n",
       "</style>\n",
       "<table border=\"1\" class=\"dataframe\">\n",
       "  <thead>\n",
       "    <tr style=\"text-align: right;\">\n",
       "      <th></th>\n",
       "      <th>State</th>\n",
       "      <th>Date</th>\n",
       "      <th>BMI Category</th>\n",
       "      <th>BMI Over 25</th>\n",
       "      <th>Education_Level</th>\n",
       "      <th>INCOME2</th>\n",
       "    </tr>\n",
       "  </thead>\n",
       "  <tbody>\n",
       "    <tr>\n",
       "      <th>0</th>\n",
       "      <td>AL</td>\n",
       "      <td>1072016</td>\n",
       "      <td>Normal Weight</td>\n",
       "      <td>No</td>\n",
       "      <td>Graduated High School</td>\n",
       "      <td>$25,000 to less than $35,000</td>\n",
       "    </tr>\n",
       "    <tr>\n",
       "      <th>1</th>\n",
       "      <td>AL</td>\n",
       "      <td>1112016</td>\n",
       "      <td>Overweight</td>\n",
       "      <td>Yes</td>\n",
       "      <td>Graduated High School</td>\n",
       "      <td>$50,000 to less than $75,000</td>\n",
       "    </tr>\n",
       "    <tr>\n",
       "      <th>2</th>\n",
       "      <td>AL</td>\n",
       "      <td>1062016</td>\n",
       "      <td>Normal Weight</td>\n",
       "      <td>No</td>\n",
       "      <td>Attended College or Technical School</td>\n",
       "      <td>$50,000 to less than $75,000</td>\n",
       "    </tr>\n",
       "    <tr>\n",
       "      <th>3</th>\n",
       "      <td>AL</td>\n",
       "      <td>1082016</td>\n",
       "      <td>Overweight</td>\n",
       "      <td>Yes</td>\n",
       "      <td>Graduated from College or Technical School</td>\n",
       "      <td>$50,000 to less than $75,000</td>\n",
       "    </tr>\n",
       "    <tr>\n",
       "      <th>4</th>\n",
       "      <td>AL</td>\n",
       "      <td>1052016</td>\n",
       "      <td>Normal Weight</td>\n",
       "      <td>No</td>\n",
       "      <td>Graduated High School</td>\n",
       "      <td>Don’t know/Not sure</td>\n",
       "    </tr>\n",
       "  </tbody>\n",
       "</table>\n",
       "</div>"
      ],
      "text/plain": [
       "  State     Date   BMI Category BMI Over 25  \\\n",
       "0    AL  1072016  Normal Weight          No   \n",
       "1    AL  1112016     Overweight         Yes   \n",
       "2    AL  1062016  Normal Weight          No   \n",
       "3    AL  1082016     Overweight         Yes   \n",
       "4    AL  1052016  Normal Weight          No   \n",
       "\n",
       "                              Education_Level                       INCOME2  \n",
       "0                       Graduated High School  $25,000 to less than $35,000  \n",
       "1                       Graduated High School  $50,000 to less than $75,000  \n",
       "2        Attended College or Technical School  $50,000 to less than $75,000  \n",
       "3  Graduated from College or Technical School  $50,000 to less than $75,000  \n",
       "4                       Graduated High School           Don’t know/Not sure  "
      ]
     },
     "execution_count": 4,
     "metadata": {},
     "output_type": "execute_result"
    }
   ],
   "source": [
    "edui2016_df.head(5)"
   ]
  },
  {
   "cell_type": "code",
   "execution_count": 5,
   "metadata": {},
   "outputs": [
    {
     "data": {
      "text/plain": [
       "array(['Normal Weight', 'Overweight', \"Don't know/Refused/Missing\",\n",
       "       'Obese', 'Underweight'], dtype=object)"
      ]
     },
     "execution_count": 5,
     "metadata": {},
     "output_type": "execute_result"
    }
   ],
   "source": [
    "#Review unqiue values for BMI category\n",
    "edui2016_df[\"BMI Category\"].unique()"
   ]
  },
  {
   "cell_type": "code",
   "execution_count": 6,
   "metadata": {},
   "outputs": [
    {
     "data": {
      "text/plain": [
       "array(['Graduated High School', 'Attended College or Technical School',\n",
       "       'Graduated from College or Technical School',\n",
       "       'Did not graduate High School', 'Don’t know/Not sure/Missing'],\n",
       "      dtype=object)"
      ]
     },
     "execution_count": 6,
     "metadata": {},
     "output_type": "execute_result"
    }
   ],
   "source": [
    "edui2016_df[\"Education_Level\"].unique()"
   ]
  },
  {
   "cell_type": "code",
   "execution_count": 7,
   "metadata": {},
   "outputs": [
    {
     "name": "stdout",
     "output_type": "stream",
     "text": [
      "State                                        AL\n",
      "Date                                    1072016\n",
      "BMI Category                      Normal Weight\n",
      "BMI Over 25                                  No\n",
      "Education_Level           Graduated High School\n",
      "INCOME2            $25,000 to less than $35,000\n",
      "Name: 0, dtype: object\n",
      "State                                        AL\n",
      "Date                                    1112016\n",
      "BMI Category                         Overweight\n",
      "BMI Over 25                                 Yes\n",
      "Education_Level           Graduated High School\n",
      "INCOME2            $50,000 to less than $75,000\n",
      "Name: 1, dtype: object\n",
      "State                                                AL\n",
      "Date                                            1062016\n",
      "BMI Category                              Normal Weight\n",
      "BMI Over 25                                          No\n",
      "Education_Level    Attended College or Technical School\n",
      "INCOME2                    $50,000 to less than $75,000\n",
      "Name: 2, dtype: object\n"
     ]
    }
   ],
   "source": [
    "cnt=0\n",
    "for row,col in edui2016_df.iterrows():\n",
    "    print(col)\n",
    "    cnt=cnt+1\n",
    "    if cnt > 2:\n",
    "        break"
   ]
  },
  {
   "cell_type": "code",
   "execution_count": 8,
   "metadata": {},
   "outputs": [],
   "source": [
    "#separate values for BMI category into just overweight, obese and other. \n",
    "edui2016_df[\"BMI Category\"] = edui2016_df[\"BMI Category\"].replace(\n",
    "    {\"Normal Weight\": \"Other\", \"Don't know/Refused/Missing\": \"Other\",\"Underweight\":\"Other\"})\n"
   ]
  },
  {
   "cell_type": "code",
   "execution_count": 9,
   "metadata": {},
   "outputs": [
    {
     "data": {
      "text/plain": [
       "array(['Other', 'Overweight', 'Obese'], dtype=object)"
      ]
     },
     "execution_count": 9,
     "metadata": {},
     "output_type": "execute_result"
    }
   ],
   "source": [
    "edui2016_df[\"BMI Category\"].unique()"
   ]
  },
  {
   "cell_type": "code",
   "execution_count": 12,
   "metadata": {},
   "outputs": [],
   "source": [
    "#group by education level and bmi category to get counts in each category.\n",
    "edui2016_grp = edui2016_df.groupby([\"Education_Level\",\"BMI Category\"])[\"State\"].count()"
   ]
  },
  {
   "cell_type": "code",
   "execution_count": 14,
   "metadata": {},
   "outputs": [],
   "source": [
    "#unstack to get each count as a column in the dataframe.\n",
    "edui2016_grp_cnt = edui2016_grp.unstack(level=1)"
   ]
  },
  {
   "cell_type": "code",
   "execution_count": 15,
   "metadata": {},
   "outputs": [
    {
     "data": {
      "text/html": [
       "<div>\n",
       "<style scoped>\n",
       "    .dataframe tbody tr th:only-of-type {\n",
       "        vertical-align: middle;\n",
       "    }\n",
       "\n",
       "    .dataframe tbody tr th {\n",
       "        vertical-align: top;\n",
       "    }\n",
       "\n",
       "    .dataframe thead th {\n",
       "        text-align: right;\n",
       "    }\n",
       "</style>\n",
       "<table border=\"1\" class=\"dataframe\">\n",
       "  <thead>\n",
       "    <tr style=\"text-align: right;\">\n",
       "      <th>BMI Category</th>\n",
       "      <th>Obese</th>\n",
       "      <th>Other</th>\n",
       "      <th>Overweight</th>\n",
       "    </tr>\n",
       "    <tr>\n",
       "      <th>Education_Level</th>\n",
       "      <th></th>\n",
       "      <th></th>\n",
       "      <th></th>\n",
       "    </tr>\n",
       "  </thead>\n",
       "  <tbody>\n",
       "    <tr>\n",
       "      <th>Attended College or Technical School</th>\n",
       "      <td>39987</td>\n",
       "      <td>49065</td>\n",
       "      <td>43616</td>\n",
       "    </tr>\n",
       "    <tr>\n",
       "      <th>Did not graduate High School</th>\n",
       "      <td>12125</td>\n",
       "      <td>14086</td>\n",
       "      <td>11478</td>\n",
       "    </tr>\n",
       "    <tr>\n",
       "      <th>Don’t know/Not sure/Missing</th>\n",
       "      <td>220</td>\n",
       "      <td>1215</td>\n",
       "      <td>314</td>\n",
       "    </tr>\n",
       "    <tr>\n",
       "      <th>Graduated High School</th>\n",
       "      <td>42256</td>\n",
       "      <td>49546</td>\n",
       "      <td>43941</td>\n",
       "    </tr>\n",
       "    <tr>\n",
       "      <th>Graduated from College or Technical School</th>\n",
       "      <td>40230</td>\n",
       "      <td>73599</td>\n",
       "      <td>60773</td>\n",
       "    </tr>\n",
       "  </tbody>\n",
       "</table>\n",
       "</div>"
      ],
      "text/plain": [
       "BMI Category                                Obese  Other  Overweight\n",
       "Education_Level                                                     \n",
       "Attended College or Technical School        39987  49065       43616\n",
       "Did not graduate High School                12125  14086       11478\n",
       "Don’t know/Not sure/Missing                   220   1215         314\n",
       "Graduated High School                       42256  49546       43941\n",
       "Graduated from College or Technical School  40230  73599       60773"
      ]
     },
     "execution_count": 15,
     "metadata": {},
     "output_type": "execute_result"
    }
   ],
   "source": [
    "edui2016_grp_cnt"
   ]
  },
  {
   "cell_type": "code",
   "execution_count": 16,
   "metadata": {},
   "outputs": [],
   "source": [
    "#Determine total counts for all categories.\n",
    "edui2016_grp_cnt[\"Total_cnt\"] = edui2016_grp_cnt[\"Obese\"] + edui2016_grp_cnt[\"Overweight\"] + edui2016_grp_cnt[\"Other\"] "
   ]
  },
  {
   "cell_type": "code",
   "execution_count": 18,
   "metadata": {},
   "outputs": [],
   "source": [
    "#Determine percent obese for each education level\n",
    "edui2016_grp_cnt[\"percent_obese\"] = (edui2016_grp_cnt[\"Obese\"] / edui2016_grp_cnt[\"Total_cnt\"]) * 100"
   ]
  },
  {
   "cell_type": "code",
   "execution_count": 20,
   "metadata": {},
   "outputs": [],
   "source": [
    "#Determine percent overweight for each education level\n",
    "edui2016_grp_cnt[\"percent_overweight\"] = (edui2016_grp_cnt[\"Overweight\"] / edui2016_grp_cnt[\"Total_cnt\"]) * 100"
   ]
  },
  {
   "cell_type": "code",
   "execution_count": 30,
   "metadata": {},
   "outputs": [],
   "source": [
    "#make Education a column in the dataframe.\n",
    "edui2016_grp_cnt[\"Education_level\"]= edui2016_grp_cnt.index"
   ]
  },
  {
   "cell_type": "code",
   "execution_count": 31,
   "metadata": {},
   "outputs": [
    {
     "data": {
      "text/plain": [
       "Index(['Obese', 'Other', 'Overweight', 'Total_cnt', 'percent_obese',\n",
       "       'percent_overweight', 'Education_level'],\n",
       "      dtype='object', name='BMI Category')"
      ]
     },
     "execution_count": 31,
     "metadata": {},
     "output_type": "execute_result"
    }
   ],
   "source": [
    "edui2016_grp_cnt.columns"
   ]
  },
  {
   "cell_type": "code",
   "execution_count": 35,
   "metadata": {},
   "outputs": [
    {
     "data": {
      "text/plain": [
       "Education_Level\n",
       "Attended College or Technical School                Attended College or Technical School\n",
       "Did not graduate High School                                Did not graduate High School\n",
       "Don’t know/Not sure/Missing                                  Don’t know/Not sure/Missing\n",
       "Graduated High School                                              Graduated High School\n",
       "Graduated from College or Technical School    Graduated from College or Technical School\n",
       "Name: Education_level, dtype: object"
      ]
     },
     "execution_count": 35,
     "metadata": {},
     "output_type": "execute_result"
    }
   ],
   "source": [
    "edui2016_grp_cnt[\"Education_level\"]"
   ]
  },
  {
   "cell_type": "code",
   "execution_count": 38,
   "metadata": {},
   "outputs": [],
   "source": [
    "#Create another column with education short form for ease of plotting.\n",
    "edui2016_grp_cnt[\"Education_short\"] = edui2016_grp_cnt[\"Education_level\"]"
   ]
  },
  {
   "cell_type": "code",
   "execution_count": 41,
   "metadata": {},
   "outputs": [
    {
     "data": {
      "text/html": [
       "<div>\n",
       "<style scoped>\n",
       "    .dataframe tbody tr th:only-of-type {\n",
       "        vertical-align: middle;\n",
       "    }\n",
       "\n",
       "    .dataframe tbody tr th {\n",
       "        vertical-align: top;\n",
       "    }\n",
       "\n",
       "    .dataframe thead th {\n",
       "        text-align: right;\n",
       "    }\n",
       "</style>\n",
       "<table border=\"1\" class=\"dataframe\">\n",
       "  <thead>\n",
       "    <tr style=\"text-align: right;\">\n",
       "      <th>BMI Category</th>\n",
       "      <th>Obese</th>\n",
       "      <th>Other</th>\n",
       "      <th>Overweight</th>\n",
       "      <th>Total_cnt</th>\n",
       "      <th>percent_obese</th>\n",
       "      <th>percent_overweight</th>\n",
       "      <th>Education_level</th>\n",
       "      <th>Education_short</th>\n",
       "    </tr>\n",
       "    <tr>\n",
       "      <th>Education_Level</th>\n",
       "      <th></th>\n",
       "      <th></th>\n",
       "      <th></th>\n",
       "      <th></th>\n",
       "      <th></th>\n",
       "      <th></th>\n",
       "      <th></th>\n",
       "      <th></th>\n",
       "    </tr>\n",
       "  </thead>\n",
       "  <tbody>\n",
       "    <tr>\n",
       "      <th>Attended College or Technical School</th>\n",
       "      <td>39987</td>\n",
       "      <td>49065</td>\n",
       "      <td>43616</td>\n",
       "      <td>132668</td>\n",
       "      <td>30.140652</td>\n",
       "      <td>32.876051</td>\n",
       "      <td>Attended College or Technical School</td>\n",
       "      <td>Attended College or Technical School</td>\n",
       "    </tr>\n",
       "    <tr>\n",
       "      <th>Did not graduate High School</th>\n",
       "      <td>12125</td>\n",
       "      <td>14086</td>\n",
       "      <td>11478</td>\n",
       "      <td>37689</td>\n",
       "      <td>32.171191</td>\n",
       "      <td>30.454509</td>\n",
       "      <td>Did not graduate High School</td>\n",
       "      <td>Did not graduate High School</td>\n",
       "    </tr>\n",
       "    <tr>\n",
       "      <th>Don’t know/Not sure/Missing</th>\n",
       "      <td>220</td>\n",
       "      <td>1215</td>\n",
       "      <td>314</td>\n",
       "      <td>1749</td>\n",
       "      <td>12.578616</td>\n",
       "      <td>17.953116</td>\n",
       "      <td>Don’t know/Not sure/Missing</td>\n",
       "      <td>Don’t know/Not sure/Missing</td>\n",
       "    </tr>\n",
       "    <tr>\n",
       "      <th>Graduated High School</th>\n",
       "      <td>42256</td>\n",
       "      <td>49546</td>\n",
       "      <td>43941</td>\n",
       "      <td>135743</td>\n",
       "      <td>31.129414</td>\n",
       "      <td>32.370730</td>\n",
       "      <td>Graduated High School</td>\n",
       "      <td>Graduated High School</td>\n",
       "    </tr>\n",
       "    <tr>\n",
       "      <th>Graduated from College or Technical School</th>\n",
       "      <td>40230</td>\n",
       "      <td>73599</td>\n",
       "      <td>60773</td>\n",
       "      <td>174602</td>\n",
       "      <td>23.040973</td>\n",
       "      <td>34.806589</td>\n",
       "      <td>Graduated from College or Technical School</td>\n",
       "      <td>Graduated from College or Technical School</td>\n",
       "    </tr>\n",
       "  </tbody>\n",
       "</table>\n",
       "</div>"
      ],
      "text/plain": [
       "BMI Category                                Obese  Other  Overweight  \\\n",
       "Education_Level                                                        \n",
       "Attended College or Technical School        39987  49065       43616   \n",
       "Did not graduate High School                12125  14086       11478   \n",
       "Don’t know/Not sure/Missing                   220   1215         314   \n",
       "Graduated High School                       42256  49546       43941   \n",
       "Graduated from College or Technical School  40230  73599       60773   \n",
       "\n",
       "BMI Category                                Total_cnt  percent_obese  \\\n",
       "Education_Level                                                        \n",
       "Attended College or Technical School           132668      30.140652   \n",
       "Did not graduate High School                    37689      32.171191   \n",
       "Don’t know/Not sure/Missing                      1749      12.578616   \n",
       "Graduated High School                          135743      31.129414   \n",
       "Graduated from College or Technical School     174602      23.040973   \n",
       "\n",
       "BMI Category                                percent_overweight  \\\n",
       "Education_Level                                                  \n",
       "Attended College or Technical School                 32.876051   \n",
       "Did not graduate High School                         30.454509   \n",
       "Don’t know/Not sure/Missing                          17.953116   \n",
       "Graduated High School                                32.370730   \n",
       "Graduated from College or Technical School           34.806589   \n",
       "\n",
       "BMI Category                                                           Education_level  \\\n",
       "Education_Level                                                                          \n",
       "Attended College or Technical School              Attended College or Technical School   \n",
       "Did not graduate High School                              Did not graduate High School   \n",
       "Don’t know/Not sure/Missing                                Don’t know/Not sure/Missing   \n",
       "Graduated High School                                            Graduated High School   \n",
       "Graduated from College or Technical School  Graduated from College or Technical School   \n",
       "\n",
       "BMI Category                                                           Education_short  \n",
       "Education_Level                                                                         \n",
       "Attended College or Technical School              Attended College or Technical School  \n",
       "Did not graduate High School                              Did not graduate High School  \n",
       "Don’t know/Not sure/Missing                                Don’t know/Not sure/Missing  \n",
       "Graduated High School                                            Graduated High School  \n",
       "Graduated from College or Technical School  Graduated from College or Technical School  "
      ]
     },
     "execution_count": 41,
     "metadata": {},
     "output_type": "execute_result"
    }
   ],
   "source": [
    "edui2016_grp_cnt"
   ]
  },
  {
   "cell_type": "code",
   "execution_count": 42,
   "metadata": {},
   "outputs": [],
   "source": [
    "#Replace education level with short form values. \n",
    "edui2016_grp_cnt[\"Education_short\"] = edui2016_grp_cnt[\"Education_short\"].replace(\n",
    "    {\"Attended College or Technical School\": \"ST College\", \"Did not graduate High School\":\"No-pass HS\",\n",
    "     \"Don’t know/Not sure/Missing\":\"Unknown\",\"Graduated High School\":\"Grad HS\",\n",
    "     \"Graduated from College or Technical School\":\"Grad College\"\n",
    "    })"
   ]
  },
  {
   "cell_type": "code",
   "execution_count": 43,
   "metadata": {},
   "outputs": [
    {
     "data": {
      "text/html": [
       "<div>\n",
       "<style scoped>\n",
       "    .dataframe tbody tr th:only-of-type {\n",
       "        vertical-align: middle;\n",
       "    }\n",
       "\n",
       "    .dataframe tbody tr th {\n",
       "        vertical-align: top;\n",
       "    }\n",
       "\n",
       "    .dataframe thead th {\n",
       "        text-align: right;\n",
       "    }\n",
       "</style>\n",
       "<table border=\"1\" class=\"dataframe\">\n",
       "  <thead>\n",
       "    <tr style=\"text-align: right;\">\n",
       "      <th>BMI Category</th>\n",
       "      <th>Obese</th>\n",
       "      <th>Other</th>\n",
       "      <th>Overweight</th>\n",
       "      <th>Total_cnt</th>\n",
       "      <th>percent_obese</th>\n",
       "      <th>percent_overweight</th>\n",
       "      <th>Education_level</th>\n",
       "      <th>Education_short</th>\n",
       "    </tr>\n",
       "    <tr>\n",
       "      <th>Education_Level</th>\n",
       "      <th></th>\n",
       "      <th></th>\n",
       "      <th></th>\n",
       "      <th></th>\n",
       "      <th></th>\n",
       "      <th></th>\n",
       "      <th></th>\n",
       "      <th></th>\n",
       "    </tr>\n",
       "  </thead>\n",
       "  <tbody>\n",
       "    <tr>\n",
       "      <th>Attended College or Technical School</th>\n",
       "      <td>39987</td>\n",
       "      <td>49065</td>\n",
       "      <td>43616</td>\n",
       "      <td>132668</td>\n",
       "      <td>30.140652</td>\n",
       "      <td>32.876051</td>\n",
       "      <td>Attended College or Technical School</td>\n",
       "      <td>ST College</td>\n",
       "    </tr>\n",
       "    <tr>\n",
       "      <th>Did not graduate High School</th>\n",
       "      <td>12125</td>\n",
       "      <td>14086</td>\n",
       "      <td>11478</td>\n",
       "      <td>37689</td>\n",
       "      <td>32.171191</td>\n",
       "      <td>30.454509</td>\n",
       "      <td>Did not graduate High School</td>\n",
       "      <td>No-pass HS</td>\n",
       "    </tr>\n",
       "    <tr>\n",
       "      <th>Don’t know/Not sure/Missing</th>\n",
       "      <td>220</td>\n",
       "      <td>1215</td>\n",
       "      <td>314</td>\n",
       "      <td>1749</td>\n",
       "      <td>12.578616</td>\n",
       "      <td>17.953116</td>\n",
       "      <td>Don’t know/Not sure/Missing</td>\n",
       "      <td>Unknown</td>\n",
       "    </tr>\n",
       "    <tr>\n",
       "      <th>Graduated High School</th>\n",
       "      <td>42256</td>\n",
       "      <td>49546</td>\n",
       "      <td>43941</td>\n",
       "      <td>135743</td>\n",
       "      <td>31.129414</td>\n",
       "      <td>32.370730</td>\n",
       "      <td>Graduated High School</td>\n",
       "      <td>Grad HS</td>\n",
       "    </tr>\n",
       "    <tr>\n",
       "      <th>Graduated from College or Technical School</th>\n",
       "      <td>40230</td>\n",
       "      <td>73599</td>\n",
       "      <td>60773</td>\n",
       "      <td>174602</td>\n",
       "      <td>23.040973</td>\n",
       "      <td>34.806589</td>\n",
       "      <td>Graduated from College or Technical School</td>\n",
       "      <td>Grad College</td>\n",
       "    </tr>\n",
       "  </tbody>\n",
       "</table>\n",
       "</div>"
      ],
      "text/plain": [
       "BMI Category                                Obese  Other  Overweight  \\\n",
       "Education_Level                                                        \n",
       "Attended College or Technical School        39987  49065       43616   \n",
       "Did not graduate High School                12125  14086       11478   \n",
       "Don’t know/Not sure/Missing                   220   1215         314   \n",
       "Graduated High School                       42256  49546       43941   \n",
       "Graduated from College or Technical School  40230  73599       60773   \n",
       "\n",
       "BMI Category                                Total_cnt  percent_obese  \\\n",
       "Education_Level                                                        \n",
       "Attended College or Technical School           132668      30.140652   \n",
       "Did not graduate High School                    37689      32.171191   \n",
       "Don’t know/Not sure/Missing                      1749      12.578616   \n",
       "Graduated High School                          135743      31.129414   \n",
       "Graduated from College or Technical School     174602      23.040973   \n",
       "\n",
       "BMI Category                                percent_overweight  \\\n",
       "Education_Level                                                  \n",
       "Attended College or Technical School                 32.876051   \n",
       "Did not graduate High School                         30.454509   \n",
       "Don’t know/Not sure/Missing                          17.953116   \n",
       "Graduated High School                                32.370730   \n",
       "Graduated from College or Technical School           34.806589   \n",
       "\n",
       "BMI Category                                                           Education_level  \\\n",
       "Education_Level                                                                          \n",
       "Attended College or Technical School              Attended College or Technical School   \n",
       "Did not graduate High School                              Did not graduate High School   \n",
       "Don’t know/Not sure/Missing                                Don’t know/Not sure/Missing   \n",
       "Graduated High School                                            Graduated High School   \n",
       "Graduated from College or Technical School  Graduated from College or Technical School   \n",
       "\n",
       "BMI Category                               Education_short  \n",
       "Education_Level                                             \n",
       "Attended College or Technical School            ST College  \n",
       "Did not graduate High School                    No-pass HS  \n",
       "Don’t know/Not sure/Missing                        Unknown  \n",
       "Graduated High School                              Grad HS  \n",
       "Graduated from College or Technical School    Grad College  "
      ]
     },
     "execution_count": 43,
     "metadata": {},
     "output_type": "execute_result"
    }
   ],
   "source": [
    "edui2016_grp_cnt"
   ]
  },
  {
   "cell_type": "code",
   "execution_count": 44,
   "metadata": {},
   "outputs": [
    {
     "data": {
      "image/png": "[encoded data removed]",
      "text/plain": [
       "<matplotlib.figure.Figure at 0x2ae39462668>"
      ]
     },
     "metadata": {},
     "output_type": "display_data"
    }
   ],
   "source": [
    "#Create  plots of education vs obesity percent\n",
    "sns.set_style(\"whitegrid\")\n",
    "ax = sns.barplot(x=edui2016_grp_cnt[\"Education_short\"], y=edui2016_grp_cnt[\"percent_obese\"], data=edui2016_grp_cnt)"
   ]
  },
  {
   "cell_type": "code",
   "execution_count": null,
   "metadata": {},
   "outputs": [],
   "source": [
    "ax = sns.barplot(x=edui2016_grp_cnt[\"Education_level\"], y=edui2016_grp_cnt[\"percent_obese\"], data=edui2016_grp_cnt)"
   ]
  }
 ],
 "metadata": {
  "kernelspec": {
   "display_name": "Python 3",
   "language": "python",
   "name": "python3"
  },
  "language_info": {
   "codemirror_mode": {
    "name": "ipython",
    "version": 3
   },
   "file_extension": ".py",
   "mimetype": "text/x-python",
   "name": "python",
   "nbconvert_exporter": "python",
   "pygments_lexer": "ipython3",
   "version": "3.6.4"
  }
 },
 "nbformat": 4,
 "nbformat_minor": 2
}
